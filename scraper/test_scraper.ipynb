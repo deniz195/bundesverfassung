{
 "cells": [
  {
   "cell_type": "code",
   "execution_count": 1,
   "metadata": {},
   "outputs": [],
   "source": []
  },
  {
   "cell_type": "code",
   "execution_count": 2,
   "metadata": {},
   "outputs": [],
   "source": [
    "# # from https://realpython.com/python-web-scraping-practical-introduction/\n",
    "\n",
    "# from requests import get\n",
    "# from requests.exceptions import RequestException\n",
    "# from contextlib import closing\n",
    "# from bs4 import BeautifulSoup"
   ]
  },
  {
   "cell_type": "code",
   "execution_count": 3,
   "metadata": {},
   "outputs": [],
   "source": [
    "from IPython.display import HTML\n",
    "import logging\n",
    "logging.basicConfig(level=logging.INFO)"
   ]
  },
  {
   "cell_type": "code",
   "execution_count": 4,
   "metadata": {},
   "outputs": [],
   "source": [
    "from law_scraper import *"
   ]
  },
  {
   "cell_type": "code",
   "execution_count": null,
   "metadata": {},
   "outputs": [],
   "source": []
  },
  {
   "cell_type": "code",
   "execution_count": 5,
   "metadata": {},
   "outputs": [],
   "source": [
    "target_url = 'https://www.admin.ch/opc/de/classified-compilation/19995395/index.html'\n",
    "raw_html = simple_get(target_url)"
   ]
  },
  {
   "cell_type": "code",
   "execution_count": 6,
   "metadata": {},
   "outputs": [],
   "source": [
    "html = BeautifulSoup(raw_html, 'html.parser')\n",
    "lawcontent = html.find(id=\"lawcontent\")\n",
    "\n",
    "# toolbar = lawcontent.find(id='toolbar')\n",
    "# toolbar.decompose()"
   ]
  },
  {
   "cell_type": "code",
   "execution_count": 7,
   "metadata": {},
   "outputs": [
    {
     "name": "stdout",
     "output_type": "stream",
     "text": [
      "Deleted: 592\n"
     ]
    }
   ],
   "source": [
    "deleted = 0\n",
    "# delete_span_classes = [\"context-menu\", 'expanderComparator']\n",
    "delete_config = [dict(id='toolbar'),\n",
    "                 dict(name='span', class_=\"context-menu\"), \n",
    "                 dict(name='span', class_='expanderComparator'),\n",
    "                 dict(name='span'),\n",
    "                 dict(name='div', id=\"comparison\"),\n",
    "                ]\n",
    "\n",
    "for dc in delete_config:\n",
    "    for tag in lawcontent.find_all(**dc):\n",
    "        if tag.string is None or not tag.string.strip():      \n",
    "            tag.decompose()\n",
    "            deleted += 1\n",
    "        else:\n",
    "            print(f'Skipped deleting: {tag.string}')\n",
    "print(f'Deleted: {deleted}')"
   ]
  },
  {
   "cell_type": "code",
   "execution_count": 8,
   "metadata": {},
   "outputs": [],
   "source": [
    "delete_tags = []\n",
    "\n",
    "sv_text = lawcontent.find(text='Sachverzeichnis')\n",
    "if sv_text is not None:\n",
    "    sv = sv_text.parent.parent\n",
    "    sv_a = sv.find_previous_sibling('a')\n",
    "    sv_div = sv.find_next_sibling('div')\n",
    "\n",
    "    delete_tags += [sv, sv_div, sv_a]\n",
    "\n",
    "    \n",
    "sv_text = lawcontent.find(text='Inhaltsverzeichnis')\n",
    "if sv_text is not None:\n",
    "    sv = sv_text.parent.parent\n",
    "    sv_a = sv.find_previous_sibling('a')\n",
    "    sv_div = sv.find_next_sibling('div')\n",
    "\n",
    "    delete_tags += [sv, sv_div, sv_a]\n",
    "\n",
    "    \n",
    "for tag in delete_tags:\n",
    "    tag.decompose()"
   ]
  },
  {
   "cell_type": "code",
   "execution_count": 9,
   "metadata": {},
   "outputs": [
    {
     "name": "stdout",
     "output_type": "stream",
     "text": [
      "2272\n",
      "3\n"
     ]
    }
   ],
   "source": [
    "div_c = []\n",
    "div_c += lawcontent.find_all('div', class_='collapseableArticle')\n",
    "div_c += lawcontent.find_all('div', class_='collapseable')\n",
    "\n",
    "# These are footnotes markings\n",
    "div_c += lawcontent.find_all('div', class_='fns')\n",
    "\n",
    "# These are all links including some which can identify articles\n",
    "div_c += lawcontent.find_all('a')\n",
    "\n",
    "print(len(div_c))\n",
    "for d in div_c:\n",
    "    d.unwrap()\n",
    "    \n",
    "    \n",
    "div_c = []\n",
    "div_c += lawcontent.find_all('div')\n",
    "\n",
    "print(len(div_c))\n",
    "for d in div_c:\n",
    "    d.unwrap()"
   ]
  },
  {
   "cell_type": "code",
   "execution_count": 222,
   "metadata": {},
   "outputs": [],
   "source": [
    "# print(lawcontent.prettify())"
   ]
  },
  {
   "cell_type": "code",
   "execution_count": 11,
   "metadata": {},
   "outputs": [],
   "source": [
    "# HTML(str(lawcontent))"
   ]
  },
  {
   "cell_type": "code",
   "execution_count": 12,
   "metadata": {},
   "outputs": [],
   "source": [
    "lawcontent.name = 'body'\n",
    "lawcontent.attrs = {}"
   ]
  },
  {
   "cell_type": "code",
   "execution_count": 17,
   "metadata": {},
   "outputs": [],
   "source": [
    "fn = './bundesverfassung_raw.html'\n",
    "# content = lawcontent.encode(formatter=\"html\")\n",
    "content = lawcontent.prettify(encoding='utf-8', formatter=\"html\")\n",
    "\n",
    "with open(fn, 'wb') as f:\n",
    "    f.write(content)"
   ]
  },
  {
   "cell_type": "code",
   "execution_count": null,
   "metadata": {},
   "outputs": [],
   "source": []
  },
  {
   "cell_type": "code",
   "execution_count": 16,
   "metadata": {},
   "outputs": [],
   "source": [
    "!start ./bundesverfassung_raw.html"
   ]
  },
  {
   "cell_type": "code",
   "execution_count": 18,
   "metadata": {},
   "outputs": [],
   "source": [
    "!pandoc bundesverfassung_raw.html -o bundesverfassung.rst\n",
    "!pandoc bundesverfassung.rst -o bundesverfassung.html\n",
    "# !start bundesverfassung.html"
   ]
  },
  {
   "cell_type": "code",
   "execution_count": 22,
   "metadata": {},
   "outputs": [
    {
     "data": {
      "text/plain": [
       "'../bundesverfassung.rst'"
      ]
     },
     "execution_count": 22,
     "metadata": {},
     "output_type": "execute_result"
    }
   ],
   "source": [
    "import shutil\n",
    "\n",
    "# shutil.copyfile('bundesverfassung.html', '../bundesverfassung.html')\n",
    "shutil.copyfile('bundesverfassung.rst', '../bundesverfassung.rst')"
   ]
  },
  {
   "cell_type": "code",
   "execution_count": null,
   "metadata": {},
   "outputs": [],
   "source": []
  }
 ],
 "metadata": {
  "kernelspec": {
   "display_name": "Python 3",
   "language": "python",
   "name": "python3"
  },
  "language_info": {
   "codemirror_mode": {
    "name": "ipython",
    "version": 3
   },
   "file_extension": ".py",
   "mimetype": "text/x-python",
   "name": "python",
   "nbconvert_exporter": "python",
   "pygments_lexer": "ipython3",
   "version": "3.6.2"
  },
  "toc": {
   "colors": {
    "hover_highlight": "#DAA520",
    "navigate_num": "#000000",
    "navigate_text": "#333333",
    "running_highlight": "#FF0000",
    "selected_highlight": "#FFD700",
    "sidebar_border": "#EEEEEE",
    "wrapper_background": "#FFFFFF"
   },
   "moveMenuLeft": true,
   "nav_menu": {
    "height": "12px",
    "width": "252px"
   },
   "navigate_menu": true,
   "number_sections": true,
   "sideBar": true,
   "threshold": 4,
   "toc_cell": false,
   "toc_section_display": "block",
   "toc_window_display": false,
   "widenNotebook": false
  }
 },
 "nbformat": 4,
 "nbformat_minor": 2
}
